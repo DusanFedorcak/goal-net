{
 "cells": [
  {
   "cell_type": "markdown",
   "metadata": {},
   "source": [
    "## Two objects dataset\n",
    "Simple version of two objects dataset. Added \"near\" relation. No \"on\" relation. "
   ]
  },
  {
   "cell_type": "code",
   "execution_count": 309,
   "metadata": {},
   "outputs": [],
   "source": [
    "import numpy as np\n",
    "\n",
    "import sampling\n",
    "from sampling import create_shape\n",
    "from evaluation import evaluate_sample\n",
    "from environment import grab_frame, reset_env\n",
    "from predicates import AtomPredicate, AtomRelation, AtomColor, AtomObject\n",
    "\n",
    "frame_size = (64, 64)\n",
    "dataset_path = 'data/two_objects_dataset_64'\n",
    "\n",
    "def sample_func():\n",
    "    bounds = (4.0, 4.0, 0.0)\n",
    "    obj_1 = sampling.ObjectOnTable.sample(origin=(0, 0, 1.0), max_bounds=bounds, max_rotation=2 * np.pi)\n",
    "    obj_2 = sampling.ObjectOnTable.sample_no_intersection(\n",
    "        origin=(0, 0, 1.0), max_bounds=bounds, max_rotation=2 * np.pi, existing_objects=[obj_1], min_distance=2.0\n",
    "    )    \n",
    "    \n",
    "    predicates = (\n",
    "        sampling.get_on_table_relation(obj_1, bounds, add_positional=False) + \n",
    "        sampling.get_on_table_relation(obj_2, bounds, add_positional=False)\n",
    "        #sampling.get_near_relation([obj_1, obj_2])\n",
    "    )\n",
    "\n",
    "    if obj_1.obj_type != obj_2.obj_type and obj_1.color != obj_2.color:\n",
    "        predicates.extend([\n",
    "            (AtomPredicate(AtomRelation.ON, obj_1.obj_type, obj_2.color, AtomObject.TABLE, AtomColor.NO_COLOR), 0.0),\n",
    "            (AtomPredicate(AtomRelation.ON, obj_2.obj_type, obj_1.color, AtomObject.TABLE, AtomColor.NO_COLOR), 0.0),\n",
    "        ])    \n",
    "        predicates.extend(sampling.get_false_predicates(predicates, 2))\n",
    "    else:\n",
    "        predicates.extend(sampling.get_false_predicates(predicates, 4))\n",
    "\n",
    "    reset_env()\n",
    "    create_shape(obj_1)\n",
    "    create_shape(obj_2)\n",
    "    frame = grab_frame(cam_pos=(0, -10, 12), cam_target=(0, -1, 0), light_dir=(-6, 1, 10), frame_size=frame_size)\n",
    "    return frame, predicates\n",
    "    "
   ]
  },
  {
   "cell_type": "code",
   "execution_count": 310,
   "metadata": {},
   "outputs": [
    {
     "data": {
      "image/png": "[encoded data removed]",
      "text/plain": [
       "<Figure size 360x360 with 1 Axes>"
      ]
     },
     "metadata": {
      "needs_background": "light"
     },
     "output_type": "display_data"
    },
    {
     "name": "stdout",
     "output_type": "stream",
     "text": [
      "(blue cube on table) 1.0\n",
      "(purple pyramid on table) 1.0\n",
      "(purple cube on table) 0.0\n",
      "(blue pyramid on table) 0.0\n",
      "(purple sphere on table) 0.0\n",
      "(green pyramid on table) 0.0\n"
     ]
    }
   ],
   "source": [
    "evaluate_sample(sample_func)"
   ]
  },
  {
   "cell_type": "code",
   "execution_count": 312,
   "metadata": {},
   "outputs": [
    {
     "name": "stdout",
     "output_type": "stream",
     "text": [
      "Generating 128 * 128 = 16384 samples\n"
     ]
    },
    {
     "name": "stderr",
     "output_type": "stream",
     "text": [
      "100%|██████████| 128/128 [07:15<00:00,  3.41s/it]\n"
     ]
    },
    {
     "name": "stdout",
     "output_type": "stream",
     "text": [
      "Generating 8 * 128 = 1024 samples\n"
     ]
    },
    {
     "name": "stderr",
     "output_type": "stream",
     "text": [
      "100%|██████████| 8/8 [00:28<00:00,  3.57s/it]\n"
     ]
    }
   ],
   "source": [
    "# Run only once!\n",
    "from batching import create_dataset\n",
    "\n",
    "create_dataset(dataset_path, num_batches=128, batch_size=128, sample_func=sample_func)\n",
    "create_dataset(dataset_path + '_test', num_batches=8, batch_size=128, sample_func=sample_func)"
   ]
  },
  {
   "cell_type": "code",
   "execution_count": 337,
   "metadata": {},
   "outputs": [
    {
     "name": "stdout",
     "output_type": "stream",
     "text": [
      "Model: \"model_8\"\n",
      "__________________________________________________________________________________________________\n",
      "Layer (type)                    Output Shape         Param #     Connected to                     \n",
      "==================================================================================================\n",
      "input_17 (InputLayer)           [(None, 64, 64, 3)]  0                                            \n",
      "__________________________________________________________________________________________________\n",
      "rescaling_8 (Rescaling)         (None, 64, 64, 3)    0           input_17[0][0]                   \n",
      "__________________________________________________________________________________________________\n",
      "conv2d_24 (Conv2D)              (None, 64, 64, 8)    224         rescaling_8[0][0]                \n",
      "__________________________________________________________________________________________________\n",
      "max_pooling2d_24 (MaxPooling2D) (None, 32, 32, 8)    0           conv2d_24[0][0]                  \n",
      "__________________________________________________________________________________________________\n",
      "conv2d_25 (Conv2D)              (None, 32, 32, 8)    584         max_pooling2d_24[0][0]           \n",
      "__________________________________________________________________________________________________\n",
      "max_pooling2d_25 (MaxPooling2D) (None, 16, 16, 8)    0           conv2d_25[0][0]                  \n",
      "__________________________________________________________________________________________________\n",
      "conv2d_26 (Conv2D)              (None, 16, 16, 16)   1168        max_pooling2d_25[0][0]           \n",
      "__________________________________________________________________________________________________\n",
      "max_pooling2d_26 (MaxPooling2D) (None, 8, 8, 16)     0           conv2d_26[0][0]                  \n",
      "__________________________________________________________________________________________________\n",
      "flatten_8 (Flatten)             (None, 1024)         0           max_pooling2d_26[0][0]           \n",
      "__________________________________________________________________________________________________\n",
      "input_18 (InputLayer)           [(None, 33)]         0                                            \n",
      "__________________________________________________________________________________________________\n",
      "dense_32 (Dense)                (None, 64)           65600       flatten_8[0][0]                  \n",
      "__________________________________________________________________________________________________\n",
      "dense_33 (Dense)                (None, 64)           2176        input_18[0][0]                   \n",
      "__________________________________________________________________________________________________\n",
      "concatenate_8 (Concatenate)     (None, 128)          0           dense_32[0][0]                   \n",
      "                                                                 dense_33[0][0]                   \n",
      "__________________________________________________________________________________________________\n",
      "dense_34 (Dense)                (None, 128)          16512       concatenate_8[0][0]              \n",
      "__________________________________________________________________________________________________\n",
      "dense_35 (Dense)                (None, 1)            129         dense_34[0][0]                   \n",
      "==================================================================================================\n",
      "Total params: 86,393\n",
      "Trainable params: 86,393\n",
      "Non-trainable params: 0\n",
      "__________________________________________________________________________________________________\n"
     ]
    }
   ],
   "source": [
    "from tensorflow.keras import layers\n",
    "from tensorflow.keras.models import Model\n",
    "\n",
    "frame_inputs = layers.Input(shape=(*frame_size, 3))\n",
    "x = layers.Rescaling(1.0 / 255.0)(frame_inputs)\n",
    "\n",
    "for size in (8, 8, 16):\n",
    "    x = layers.Conv2D(size, 3, padding=\"same\", activation='relu')(x)\n",
    "    x = layers.MaxPooling2D(2, padding=\"same\")(x)        \n",
    "\n",
    "x = layers.Flatten()(x)\n",
    "conv_branch_outputs = layers.Dense(64, activation='relu')(x)\n",
    "\n",
    "predicate_inputs = layers.Input(shape=(33,))\n",
    "predicate_branch_outputs = layers.Dense(64, activation='relu')(predicate_inputs)\n",
    "\n",
    "x = layers.concatenate([conv_branch_outputs, predicate_branch_outputs], axis=-1)\n",
    "x = layers.Dense(128, activation='relu')(x)\n",
    "outputs = layers.Dense(1, activation='sigmoid')(x)\n",
    "\n",
    "model = Model([frame_inputs, predicate_inputs], outputs)\n",
    "model.summary()\n",
    "model.compile(optimizer=\"adam\", loss=\"binary_crossentropy\", metrics=[\"accuracy\"])"
   ]
  },
  {
   "cell_type": "code",
   "execution_count": 279,
   "metadata": {},
   "outputs": [],
   "source": [
    "from batching import load_as_tf_dataset\n",
    "training_set = load_as_tf_dataset(dataset_path).shuffle(128).batch(32)\n",
    "testing_set = load_as_tf_dataset(dataset_path + \"_test\").batch(32)"
   ]
  },
  {
   "cell_type": "code",
   "execution_count": 314,
   "metadata": {},
   "outputs": [
    {
     "name": "stdout",
     "output_type": "stream",
     "text": [
      "Datasets contain 256 files in total.\n",
      "Datasets contain 16 files in total.\n"
     ]
    }
   ],
   "source": [
    "from batching import load_datasets\n",
    "\n",
    "training_set = load_datasets([\"data/one_object_dataset_64\", dataset_path]).shuffle(128).batch(32)\n",
    "testing_set = load_datasets([\"data/one_object_dataset_64_test\", dataset_path + \"_test\"]).batch(32)"
   ]
  },
  {
   "cell_type": "code",
   "execution_count": 338,
   "metadata": {},
   "outputs": [],
   "source": [
    "model.load_weights(\"models/one_object_64input_8_8_16conv_64_128dense.h5\")"
   ]
  },
  {
   "cell_type": "code",
   "execution_count": 369,
   "metadata": {},
   "outputs": [
    {
     "name": "stdout",
     "output_type": "stream",
     "text": [
      "Epoch 1/5\n",
      "7680/7680 [==============================] - 83s 11ms/step - loss: 0.0363 - accuracy: 0.9588 - val_loss: 0.0555 - val_accuracy: 0.9536\n",
      "Epoch 2/5\n",
      "7680/7680 [==============================] - 83s 11ms/step - loss: 0.0353 - accuracy: 0.9592 - val_loss: 0.0549 - val_accuracy: 0.9541\n",
      "Epoch 3/5\n",
      "7680/7680 [==============================] - 83s 11ms/step - loss: 0.0347 - accuracy: 0.9594 - val_loss: 0.0542 - val_accuracy: 0.9535\n",
      "Epoch 4/5\n",
      "7680/7680 [==============================] - 82s 11ms/step - loss: 0.0339 - accuracy: 0.9596 - val_loss: 0.0528 - val_accuracy: 0.9533\n",
      "Epoch 5/5\n",
      "7680/7680 [==============================] - 82s 11ms/step - loss: 0.0334 - accuracy: 0.9599 - val_loss: 0.0538 - val_accuracy: 0.9542\n",
      "CPU times: user 6min 39s, sys: 40.4 s, total: 7min 20s\n",
      "Wall time: 6min 53s\n"
     ]
    }
   ],
   "source": [
    "%%time\n",
    "model.optimizer.learning_rate = 1e-4\n",
    "progress = model.fit(training_set, validation_data=testing_set, epochs=5)"
   ]
  },
  {
   "cell_type": "code",
   "execution_count": 370,
   "metadata": {},
   "outputs": [
    {
     "data": {
      "image/png": "[encoded data removed]",
      "text/plain": [
       "<Figure size 720x216 with 1 Axes>"
      ]
     },
     "metadata": {
      "needs_background": "light"
     },
     "output_type": "display_data"
    }
   ],
   "source": [
    "from utils import draw_progress\n",
    "draw_progress(progress, fit_line=True)"
   ]
  },
  {
   "cell_type": "code",
   "execution_count": 373,
   "metadata": {},
   "outputs": [],
   "source": [
    "probes = sampling.get_on_table_probes(add_positional=True)\n",
    "#probes = sampling.get_near_probes()"
   ]
  },
  {
   "cell_type": "code",
   "execution_count": 197,
   "metadata": {},
   "outputs": [
    {
     "data": {
      "text/plain": [
       "(324, 33)"
      ]
     },
     "execution_count": 197,
     "metadata": {},
     "output_type": "execute_result"
    }
   ],
   "source": [
    "probes.shape"
   ]
  },
  {
   "cell_type": "code",
   "execution_count": 380,
   "metadata": {},
   "outputs": [
    {
     "data": {
      "image/png": "[encoded data removed]",
      "text/plain": [
       "<Figure size 360x360 with 1 Axes>"
      ]
     },
     "metadata": {
      "needs_background": "light"
     },
     "output_type": "display_data"
    },
    {
     "name": "stdout",
     "output_type": "stream",
     "text": [
      "(purple sphere on table) 1.0\n",
      "(purple cube on table) 1.0\n",
      "(yellow pyramid on table) 0.0\n",
      "(green cube on table) 0.0\n",
      "(purple pyramid on table) 0.0\n",
      "(blue cube on table) 0.0\n",
      "---\n",
      "(purple cube on table) 0.99999535\n",
      "(purple cube on_near_side_of table) 0.9992373\n",
      "(purple sphere on table) 0.99876463\n",
      "(purple cube on_left_side_of table) 0.9765089\n"
     ]
    }
   ],
   "source": [
    "evaluate_sample(sample_func, model, probes)"
   ]
  }
 ],
 "metadata": {
  "interpreter": {
   "hash": "d8c0228d123c1147fccbb2d1956029d0169d2e4b1fdd13bb4e68fe309dcbd4e2"
  },
  "kernelspec": {
   "display_name": "Python 3.9.7 64-bit ('ml': conda)",
   "name": "python3"
  },
  "language_info": {
   "codemirror_mode": {
    "name": "ipython",
    "version": 3
   },
   "file_extension": ".py",
   "mimetype": "text/x-python",
   "name": "python",
   "nbconvert_exporter": "python",
   "pygments_lexer": "ipython3",
   "version": "3.9.7"
  },
  "orig_nbformat": 4
 },
 "nbformat": 4,
 "nbformat_minor": 2
}
