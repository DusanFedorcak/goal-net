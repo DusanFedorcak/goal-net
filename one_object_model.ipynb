{
 "cells": [
  {
   "cell_type": "markdown",
   "metadata": {},
   "source": [
    "## Simple one-object dataset\n",
    "Simple one object of random type and color in random position and orientation"
   ]
  },
  {
   "cell_type": "code",
   "execution_count": 1,
   "metadata": {},
   "outputs": [
    {
     "name": "stderr",
     "output_type": "stream",
     "text": [
      "pybullet build time: May  8 2021 05:50:53\n"
     ]
    }
   ],
   "source": [
    "import numpy as np\n",
    "\n",
    "import sampling\n",
    "from sampling import create_shape\n",
    "from evaluation import evaluate_sample\n",
    "from environment import grab_frame, reset_env\n",
    "\n",
    "frame_size = (64, 64)\n",
    "dataset_path = 'data/one_object_dataset_64'\n",
    "\n",
    "def sample_func():\n",
    "    bounds = (4.0, 4.0, 0.0)\n",
    "    obj = sampling.ObjectOnTable.sample(origin=(0, 0, 1.0), max_bounds=bounds, max_rotation=2 * np.pi)\n",
    "    \n",
    "    predicates = sampling.get_on_table_relation(obj, bounds, add_positional=True)\n",
    "    predicates.extend(sampling.get_false_predicates(predicates, 3))\n",
    "\n",
    "    reset_env()\n",
    "    create_shape(obj)\n",
    "    frame = grab_frame(cam_pos=(0, -10, 12), cam_target=(0, -1, 0), light_dir=(-6, 1, 10), frame_size=frame_size)\n",
    "    return frame, predicates\n",
    "    "
   ]
  },
  {
   "cell_type": "code",
   "execution_count": 2,
   "metadata": {},
   "outputs": [
    {
     "data": {
      "image/png": "[encoded data removed]",
      "text/plain": [
       "<Figure size 360x360 with 1 Axes>"
      ]
     },
     "metadata": {
      "needs_background": "light"
     },
     "output_type": "display_data"
    },
    {
     "name": "stdout",
     "output_type": "stream",
     "text": [
      "(cyan sphere on table) 1.0\n",
      "(cyan sphere on_left_side_of table) 0.2731837457005719\n",
      "(cyan sphere on_right_side_of table) 0.0\n",
      "(cyan sphere on_far_side_of table) 0.0\n",
      "(cyan sphere on_near_side_of table) 1.0\n",
      "(cyan sphere in_center_of table) 0.0\n",
      "(red sphere on table) 0.0\n",
      "(cyan pyramid on_near_side_of table) 0.0\n",
      "(blue sphere on_right_side_of table) 0.0\n"
     ]
    }
   ],
   "source": [
    "evaluate_sample(sample_func)"
   ]
  },
  {
   "cell_type": "code",
   "execution_count": 3,
   "metadata": {},
   "outputs": [
    {
     "name": "stdout",
     "output_type": "stream",
     "text": [
      "Generating 128 * 128 = 16384 samples\n"
     ]
    },
    {
     "name": "stderr",
     "output_type": "stream",
     "text": [
      "100%|██████████| 128/128 [03:39<00:00,  1.71s/it]\n"
     ]
    },
    {
     "name": "stdout",
     "output_type": "stream",
     "text": [
      "Generating 8 * 128 = 1024 samples\n"
     ]
    },
    {
     "name": "stderr",
     "output_type": "stream",
     "text": [
      "100%|██████████| 8/8 [00:13<00:00,  1.71s/it]\n"
     ]
    }
   ],
   "source": [
    "# Run only once!\n",
    "from batching import create_dataset\n",
    "\n",
    "create_dataset(dataset_path, num_batches=128, batch_size=128, sample_func=sample_func)\n",
    "create_dataset(dataset_path + '_test', num_batches=8, batch_size=128, sample_func=sample_func)"
   ]
  },
  {
   "cell_type": "code",
   "execution_count": 37,
   "metadata": {},
   "outputs": [
    {
     "name": "stdout",
     "output_type": "stream",
     "text": [
      "Model: \"model_2\"\n",
      "__________________________________________________________________________________________________\n",
      "Layer (type)                    Output Shape         Param #     Connected to                     \n",
      "==================================================================================================\n",
      "input_5 (InputLayer)            [(None, 64, 64, 3)]  0                                            \n",
      "__________________________________________________________________________________________________\n",
      "rescaling_2 (Rescaling)         (None, 64, 64, 3)    0           input_5[0][0]                    \n",
      "__________________________________________________________________________________________________\n",
      "conv2d_6 (Conv2D)               (None, 64, 64, 8)    224         rescaling_2[0][0]                \n",
      "__________________________________________________________________________________________________\n",
      "max_pooling2d_6 (MaxPooling2D)  (None, 32, 32, 8)    0           conv2d_6[0][0]                   \n",
      "__________________________________________________________________________________________________\n",
      "conv2d_7 (Conv2D)               (None, 32, 32, 8)    584         max_pooling2d_6[0][0]            \n",
      "__________________________________________________________________________________________________\n",
      "max_pooling2d_7 (MaxPooling2D)  (None, 16, 16, 8)    0           conv2d_7[0][0]                   \n",
      "__________________________________________________________________________________________________\n",
      "conv2d_8 (Conv2D)               (None, 16, 16, 16)   1168        max_pooling2d_7[0][0]            \n",
      "__________________________________________________________________________________________________\n",
      "max_pooling2d_8 (MaxPooling2D)  (None, 8, 8, 16)     0           conv2d_8[0][0]                   \n",
      "__________________________________________________________________________________________________\n",
      "flatten_2 (Flatten)             (None, 1024)         0           max_pooling2d_8[0][0]            \n",
      "__________________________________________________________________________________________________\n",
      "input_6 (InputLayer)            [(None, 33)]         0                                            \n",
      "__________________________________________________________________________________________________\n",
      "dense_8 (Dense)                 (None, 64)           65600       flatten_2[0][0]                  \n",
      "__________________________________________________________________________________________________\n",
      "dense_9 (Dense)                 (None, 64)           2176        input_6[0][0]                    \n",
      "__________________________________________________________________________________________________\n",
      "concatenate_2 (Concatenate)     (None, 128)          0           dense_8[0][0]                    \n",
      "                                                                 dense_9[0][0]                    \n",
      "__________________________________________________________________________________________________\n",
      "dense_10 (Dense)                (None, 128)          16512       concatenate_2[0][0]              \n",
      "__________________________________________________________________________________________________\n",
      "dense_11 (Dense)                (None, 1)            129         dense_10[0][0]                   \n",
      "==================================================================================================\n",
      "Total params: 86,393\n",
      "Trainable params: 86,393\n",
      "Non-trainable params: 0\n",
      "__________________________________________________________________________________________________\n"
     ]
    }
   ],
   "source": [
    "from tensorflow.keras import layers\n",
    "from tensorflow.keras.models import Model\n",
    "\n",
    "frame_inputs = layers.Input(shape=(*frame_size, 3))\n",
    "x = layers.Rescaling(1.0 / 255.0)(frame_inputs)\n",
    "\n",
    "for size in (8, 8, 16):\n",
    "    x = layers.Conv2D(size, 3, padding=\"same\", activation='relu')(x)\n",
    "    x = layers.MaxPooling2D(2, padding=\"same\")(x)        \n",
    "\n",
    "x = layers.Flatten()(x)\n",
    "conv_branch_outputs = layers.Dense(64, activation='relu')(x)\n",
    "\n",
    "predicate_inputs = layers.Input(shape=(33,))\n",
    "predicate_branch_outputs = layers.Dense(64, activation='relu')(predicate_inputs)\n",
    "\n",
    "x = layers.concatenate([conv_branch_outputs, predicate_branch_outputs], axis=-1)\n",
    "x = layers.Dense(128, activation='relu')(x)\n",
    "outputs = layers.Dense(1, activation='sigmoid')(x)\n",
    "\n",
    "model = Model([frame_inputs, predicate_inputs], outputs)\n",
    "model.summary()\n",
    "model.compile(optimizer=\"adam\", loss=\"binary_crossentropy\", metrics=[\"accuracy\"])"
   ]
  },
  {
   "cell_type": "code",
   "execution_count": 38,
   "metadata": {},
   "outputs": [],
   "source": [
    "from batching import load_as_tf_dataset\n",
    "training_set = load_as_tf_dataset(dataset_path).shuffle(128).batch(32)\n",
    "testing_set = load_as_tf_dataset(dataset_path + \"_test\").batch(32)"
   ]
  },
  {
   "cell_type": "code",
   "execution_count": 45,
   "metadata": {},
   "outputs": [
    {
     "name": "stdout",
     "output_type": "stream",
     "text": [
      "Epoch 1/5\n",
      "4608/4608 [==============================] - 52s 11ms/step - loss: 0.0590 - accuracy: 0.9333 - val_loss: 0.0564 - val_accuracy: 0.9363\n",
      "Epoch 2/5\n",
      "4608/4608 [==============================] - 54s 12ms/step - loss: 0.0552 - accuracy: 0.9343 - val_loss: 0.0581 - val_accuracy: 0.9351\n",
      "Epoch 3/5\n",
      "4608/4608 [==============================] - 52s 11ms/step - loss: 0.0539 - accuracy: 0.9347 - val_loss: 0.0533 - val_accuracy: 0.9357\n",
      "Epoch 4/5\n",
      "4608/4608 [==============================] - 52s 11ms/step - loss: 0.0515 - accuracy: 0.9349 - val_loss: 0.0614 - val_accuracy: 0.9337\n",
      "Epoch 5/5\n",
      "4608/4608 [==============================] - 52s 11ms/step - loss: 0.0486 - accuracy: 0.9360 - val_loss: 0.0422 - val_accuracy: 0.9388\n",
      "CPU times: user 4min 6s, sys: 26.4 s, total: 4min 33s\n",
      "Wall time: 4min 21s\n"
     ]
    }
   ],
   "source": [
    "%%time\n",
    "progress = model.fit(training_set, validation_data=testing_set, epochs=5)"
   ]
  },
  {
   "cell_type": "code",
   "execution_count": 53,
   "metadata": {},
   "outputs": [],
   "source": [
    "# model.save_weights(\"models/one_object_64input_8_8_16conv_64_128dense.h5\")"
   ]
  },
  {
   "cell_type": "code",
   "execution_count": 31,
   "metadata": {},
   "outputs": [
    {
     "data": {
      "image/png": "[encoded data removed]",
      "text/plain": [
       "<Figure size 720x216 with 1 Axes>"
      ]
     },
     "metadata": {
      "needs_background": "light"
     },
     "output_type": "display_data"
    }
   ],
   "source": [
    "from utils import draw_progress\n",
    "draw_progress(progress, fit_line=False)"
   ]
  },
  {
   "cell_type": "code",
   "execution_count": 10,
   "metadata": {},
   "outputs": [],
   "source": [
    "probes = sampling.get_on_table_probes(add_positional=True)"
   ]
  },
  {
   "cell_type": "code",
   "execution_count": 52,
   "metadata": {},
   "outputs": [
    {
     "data": {
      "image/png": "[encoded data removed]",
      "text/plain": [
       "<Figure size 360x360 with 1 Axes>"
      ]
     },
     "metadata": {
      "needs_background": "light"
     },
     "output_type": "display_data"
    },
    {
     "name": "stdout",
     "output_type": "stream",
     "text": [
      "(yellow sphere on table) 1.0\n",
      "(yellow sphere on_left_side_of table) 0.0\n",
      "(yellow sphere on_right_side_of table) 0.6029768175182237\n",
      "(yellow sphere on_far_side_of table) 0.0\n",
      "(yellow sphere on_near_side_of table) 1.0\n",
      "(yellow sphere in_center_of table) 0.0\n",
      "(red sphere on_left_side_of table) 0.0\n",
      "(cyan cube on_right_side_of table) 0.0\n",
      "(red cube on table) 0.0\n",
      "---\n",
      "(yellow pyramid on table) 0.999241\n",
      "(yellow pyramid on_near_side_of table) 0.9976878\n",
      "(yellow sphere on_near_side_of table) 0.8259307\n",
      "(yellow pyramid on_right_side_of table) 0.7718864\n",
      "(yellow sphere on table) 0.43710533\n"
     ]
    }
   ],
   "source": [
    "evaluate_sample(sample_func, model, probes)"
   ]
  }
 ],
 "metadata": {
  "interpreter": {
   "hash": "d8c0228d123c1147fccbb2d1956029d0169d2e4b1fdd13bb4e68fe309dcbd4e2"
  },
  "kernelspec": {
   "display_name": "Python 3.9.7 64-bit ('ml': conda)",
   "name": "python3"
  },
  "language_info": {
   "codemirror_mode": {
    "name": "ipython",
    "version": 3
   },
   "file_extension": ".py",
   "mimetype": "text/x-python",
   "name": "python",
   "nbconvert_exporter": "python",
   "pygments_lexer": "ipython3",
   "version": "3.9.7"
  },
  "orig_nbformat": 4
 },
 "nbformat": 4,
 "nbformat_minor": 2
}
