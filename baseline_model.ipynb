{
 "cells": [
  {
   "cell_type": "markdown",
   "metadata": {},
   "source": [
    "## Baseline one object dataset\n",
    "Testing dataset with one object of random shape and color in very easy rendering (basically for making sure that the model architecture works)"
   ]
  },
  {
   "cell_type": "code",
   "execution_count": 36,
   "metadata": {},
   "outputs": [],
   "source": [
    "import numpy as np\n",
    "\n",
    "import sampling\n",
    "from evaluation import evaluate_sample\n",
    "from environment import grab_frame, reset_env\n",
    "\n",
    "frame_size = (64, 64)\n",
    "dataset_path = 'data/baseline_dataset'\n",
    "\n",
    "def sample_func():    \n",
    "    obj = sampling.ObjectOnTable.sample(origin=(0, 0, 1.0), max_bounds=(0, 0, 0), max_rotation=2 * np.pi)\n",
    "    \n",
    "    predicates = sampling.get_on_table_relation(obj, None, add_positional=False)\n",
    "    predicates.extend(sampling.get_false_predicates(predicates, 1))\n",
    "\n",
    "    reset_env()\n",
    "    sampling.create_shape(obj)\n",
    "    frame = grab_frame(cam_pos=(0, -5, 1), cam_target=(0, 0, 1), light_dir=(-6, 1, 10), frame_size=frame_size)\n",
    "    return frame, predicates"
   ]
  },
  {
   "cell_type": "code",
   "execution_count": 37,
   "metadata": {},
   "outputs": [
    {
     "name": "stdout",
     "output_type": "stream",
     "text": [
      "Generating 32 * 128 = 4096 samples\n"
     ]
    },
    {
     "name": "stderr",
     "output_type": "stream",
     "text": [
      "100%|██████████| 32/32 [01:45<00:00,  3.28s/it]\n"
     ]
    }
   ],
   "source": [
    "# Run only once!\n",
    "from batching import create_dataset\n",
    "create_dataset(dataset_path, 32, 128, sample_func)"
   ]
  },
  {
   "cell_type": "code",
   "execution_count": 44,
   "metadata": {},
   "outputs": [
    {
     "name": "stdout",
     "output_type": "stream",
     "text": [
      "Generating 8 * 128 = 1024 samples\n"
     ]
    },
    {
     "name": "stderr",
     "output_type": "stream",
     "text": [
      "100%|██████████| 8/8 [00:26<00:00,  3.25s/it]\n"
     ]
    }
   ],
   "source": [
    "# Run only once!\n",
    "create_dataset(dataset_path + \"_testing\", 8, 128, sample_func)"
   ]
  },
  {
   "cell_type": "code",
   "execution_count": 45,
   "metadata": {},
   "outputs": [
    {
     "name": "stdout",
     "output_type": "stream",
     "text": [
      "Model: \"model_8\"\n",
      "__________________________________________________________________________________________________\n",
      "Layer (type)                    Output Shape         Param #     Connected to                     \n",
      "==================================================================================================\n",
      "input_17 (InputLayer)           [(None, 64, 64, 3)]  0                                            \n",
      "__________________________________________________________________________________________________\n",
      "rescaling_8 (Rescaling)         (None, 64, 64, 3)    0           input_17[0][0]                   \n",
      "__________________________________________________________________________________________________\n",
      "conv2d_24 (Conv2D)              (None, 64, 64, 8)    224         rescaling_8[0][0]                \n",
      "__________________________________________________________________________________________________\n",
      "max_pooling2d_24 (MaxPooling2D) (None, 32, 32, 8)    0           conv2d_24[0][0]                  \n",
      "__________________________________________________________________________________________________\n",
      "conv2d_25 (Conv2D)              (None, 32, 32, 8)    584         max_pooling2d_24[0][0]           \n",
      "__________________________________________________________________________________________________\n",
      "max_pooling2d_25 (MaxPooling2D) (None, 16, 16, 8)    0           conv2d_25[0][0]                  \n",
      "__________________________________________________________________________________________________\n",
      "conv2d_26 (Conv2D)              (None, 16, 16, 8)    584         max_pooling2d_25[0][0]           \n",
      "__________________________________________________________________________________________________\n",
      "max_pooling2d_26 (MaxPooling2D) (None, 8, 8, 8)      0           conv2d_26[0][0]                  \n",
      "__________________________________________________________________________________________________\n",
      "flatten_8 (Flatten)             (None, 512)          0           max_pooling2d_26[0][0]           \n",
      "__________________________________________________________________________________________________\n",
      "input_18 (InputLayer)           [(None, 33)]         0                                            \n",
      "__________________________________________________________________________________________________\n",
      "dense_32 (Dense)                (None, 64)           32832       flatten_8[0][0]                  \n",
      "__________________________________________________________________________________________________\n",
      "dense_33 (Dense)                (None, 64)           2176        input_18[0][0]                   \n",
      "__________________________________________________________________________________________________\n",
      "concatenate_8 (Concatenate)     (None, 128)          0           dense_32[0][0]                   \n",
      "                                                                 dense_33[0][0]                   \n",
      "__________________________________________________________________________________________________\n",
      "dense_34 (Dense)                (None, 128)          16512       concatenate_8[0][0]              \n",
      "__________________________________________________________________________________________________\n",
      "dense_35 (Dense)                (None, 1)            129         dense_34[0][0]                   \n",
      "==================================================================================================\n",
      "Total params: 53,041\n",
      "Trainable params: 53,041\n",
      "Non-trainable params: 0\n",
      "__________________________________________________________________________________________________\n"
     ]
    }
   ],
   "source": [
    "from tensorflow.keras import layers\n",
    "from tensorflow.keras.models import Model\n",
    "\n",
    "frame_inputs = layers.Input(shape=(*frame_size, 3))\n",
    "x = layers.Rescaling(1.0 / 255.0)(frame_inputs)\n",
    "\n",
    "for size in (8, 8, 8):\n",
    "    x = layers.Conv2D(size, 3, padding=\"same\", activation='relu')(x)\n",
    "    x = layers.MaxPooling2D(2, padding=\"same\")(x)        \n",
    "\n",
    "x = layers.Flatten()(x)\n",
    "conv_branch_outputs = layers.Dense(64, activation='relu')(x)\n",
    "\n",
    "predicate_inputs = layers.Input(shape=(33,))\n",
    "predicate_branch_outputs = layers.Dense(64, activation='relu')(predicate_inputs)\n",
    "\n",
    "x = layers.concatenate([conv_branch_outputs, predicate_branch_outputs], axis=-1)\n",
    "x = layers.Dense(128, activation='relu')(x)\n",
    "outputs = layers.Dense(1, activation='sigmoid')(x)\n",
    "\n",
    "model = Model([frame_inputs, predicate_inputs], outputs)\n",
    "model.summary()\n",
    "model.compile(optimizer=\"adam\", loss=\"binary_crossentropy\", metrics=[\"accuracy\"])"
   ]
  },
  {
   "cell_type": "code",
   "execution_count": 46,
   "metadata": {},
   "outputs": [],
   "source": [
    "from batching import load_as_tf_dataset\n",
    "training_set = load_as_tf_dataset(dataset_path).shuffle(128).batch(32)\n",
    "testing_set = load_as_tf_dataset(dataset_path + \"_testing\").batch(32)"
   ]
  },
  {
   "cell_type": "code",
   "execution_count": 47,
   "metadata": {},
   "outputs": [
    {
     "name": "stdout",
     "output_type": "stream",
     "text": [
      "Epoch 1/5\n",
      "256/256 [==============================] - 4s 13ms/step - loss: 0.4230 - accuracy: 0.8324 - val_loss: 0.1549 - val_accuracy: 0.9536\n",
      "Epoch 2/5\n",
      "256/256 [==============================] - 3s 13ms/step - loss: 0.0620 - accuracy: 0.9872 - val_loss: 0.0212 - val_accuracy: 0.9990\n",
      "Epoch 3/5\n",
      "256/256 [==============================] - 3s 13ms/step - loss: 0.0084 - accuracy: 1.0000 - val_loss: 0.0043 - val_accuracy: 1.0000\n",
      "Epoch 4/5\n",
      "256/256 [==============================] - 3s 13ms/step - loss: 0.0029 - accuracy: 1.0000 - val_loss: 0.0020 - val_accuracy: 1.0000\n",
      "Epoch 5/5\n",
      "256/256 [==============================] - 3s 13ms/step - loss: 0.0015 - accuracy: 1.0000 - val_loss: 0.0011 - val_accuracy: 1.0000\n",
      "CPU times: user 17 s, sys: 1.3 s, total: 18.3 s\n",
      "Wall time: 17.2 s\n"
     ]
    }
   ],
   "source": [
    "%%time\n",
    "progress = model.fit(training_set, validation_data=testing_set, epochs=5)"
   ]
  },
  {
   "cell_type": "code",
   "execution_count": 51,
   "metadata": {},
   "outputs": [
    {
     "data": {
      "image/png": "[encoded data removed]",
      "text/plain": [
       "<Figure size 720x216 with 1 Axes>"
      ]
     },
     "metadata": {
      "needs_background": "light"
     },
     "output_type": "display_data"
    }
   ],
   "source": [
    "from utils import draw_progress\n",
    "draw_progress(progress, fit_line=False)"
   ]
  },
  {
   "cell_type": "code",
   "execution_count": 56,
   "metadata": {},
   "outputs": [],
   "source": [
    "from evaluation import evaluate_sample\n",
    "probes = sampling.get_on_table_probes(add_positional=False)"
   ]
  },
  {
   "cell_type": "code",
   "execution_count": 57,
   "metadata": {},
   "outputs": [
    {
     "data": {
      "image/png": "[encoded data removed]",
      "text/plain": [
       "<Figure size 360x360 with 1 Axes>"
      ]
     },
     "metadata": {
      "needs_background": "light"
     },
     "output_type": "display_data"
    },
    {
     "name": "stdout",
     "output_type": "stream",
     "text": [
      "(yellow pyramid on table) 1.0\n",
      "(green pyramid on table) 0.0\n",
      "---\n",
      "(yellow pyramid on table) 0.99921477\n"
     ]
    }
   ],
   "source": [
    "evaluate_sample(sample_func, model, probes)"
   ]
  }
 ],
 "metadata": {
  "interpreter": {
   "hash": "d8c0228d123c1147fccbb2d1956029d0169d2e4b1fdd13bb4e68fe309dcbd4e2"
  },
  "kernelspec": {
   "display_name": "Python 3.9.7 64-bit ('ml': conda)",
   "name": "python3"
  },
  "language_info": {
   "codemirror_mode": {
    "name": "ipython",
    "version": 3
   },
   "file_extension": ".py",
   "mimetype": "text/x-python",
   "name": "python",
   "nbconvert_exporter": "python",
   "pygments_lexer": "ipython3",
   "version": "3.9.7"
  },
  "orig_nbformat": 4
 },
 "nbformat": 4,
 "nbformat_minor": 2
}
